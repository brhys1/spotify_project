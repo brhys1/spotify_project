{
 "cells": [
  {
   "cell_type": "code",
   "execution_count": 5,
   "metadata": {},
   "outputs": [
    {
     "name": "stdout",
     "output_type": "stream",
     "text": [
      "Requirement already satisfied: pandas in /Library/Frameworks/Python.framework/Versions/3.12/lib/python3.12/site-packages (2.2.3)\n",
      "Requirement already satisfied: numpy>=1.26.0 in /Library/Frameworks/Python.framework/Versions/3.12/lib/python3.12/site-packages (from pandas) (1.26.4)\n",
      "Requirement already satisfied: python-dateutil>=2.8.2 in /Library/Frameworks/Python.framework/Versions/3.12/lib/python3.12/site-packages (from pandas) (2.9.0.post0)\n",
      "Requirement already satisfied: pytz>=2020.1 in /Library/Frameworks/Python.framework/Versions/3.12/lib/python3.12/site-packages (from pandas) (2024.2)\n",
      "Requirement already satisfied: tzdata>=2022.7 in /Library/Frameworks/Python.framework/Versions/3.12/lib/python3.12/site-packages (from pandas) (2024.2)\n",
      "Requirement already satisfied: six>=1.5 in /Library/Frameworks/Python.framework/Versions/3.12/lib/python3.12/site-packages (from python-dateutil>=2.8.2->pandas) (1.17.0)\n",
      "\n",
      "\u001b[1m[\u001b[0m\u001b[34;49mnotice\u001b[0m\u001b[1;39;49m]\u001b[0m\u001b[39;49m A new release of pip is available: \u001b[0m\u001b[31;49m24.3.1\u001b[0m\u001b[39;49m -> \u001b[0m\u001b[32;49m25.0.1\u001b[0m\n",
      "\u001b[1m[\u001b[0m\u001b[34;49mnotice\u001b[0m\u001b[1;39;49m]\u001b[0m\u001b[39;49m To update, run: \u001b[0m\u001b[32;49mpip install --upgrade pip\u001b[0m\n",
      "Requirement already satisfied: scikit-learn in /Library/Frameworks/Python.framework/Versions/3.12/lib/python3.12/site-packages (1.6.1)\n",
      "Requirement already satisfied: numpy>=1.19.5 in /Library/Frameworks/Python.framework/Versions/3.12/lib/python3.12/site-packages (from scikit-learn) (1.26.4)\n",
      "Requirement already satisfied: scipy>=1.6.0 in /Library/Frameworks/Python.framework/Versions/3.12/lib/python3.12/site-packages (from scikit-learn) (1.13.1)\n",
      "Requirement already satisfied: joblib>=1.2.0 in /Library/Frameworks/Python.framework/Versions/3.12/lib/python3.12/site-packages (from scikit-learn) (1.4.2)\n",
      "Requirement already satisfied: threadpoolctl>=3.1.0 in /Library/Frameworks/Python.framework/Versions/3.12/lib/python3.12/site-packages (from scikit-learn) (3.5.0)\n",
      "\n",
      "\u001b[1m[\u001b[0m\u001b[34;49mnotice\u001b[0m\u001b[1;39;49m]\u001b[0m\u001b[39;49m A new release of pip is available: \u001b[0m\u001b[31;49m24.3.1\u001b[0m\u001b[39;49m -> \u001b[0m\u001b[32;49m25.0.1\u001b[0m\n",
      "\u001b[1m[\u001b[0m\u001b[34;49mnotice\u001b[0m\u001b[1;39;49m]\u001b[0m\u001b[39;49m To update, run: \u001b[0m\u001b[32;49mpip install --upgrade pip\u001b[0m\n",
      "Requirement already satisfied: category_encoders in /Library/Frameworks/Python.framework/Versions/3.12/lib/python3.12/site-packages (2.8.1)\n",
      "Requirement already satisfied: numpy>=1.14.0 in /Library/Frameworks/Python.framework/Versions/3.12/lib/python3.12/site-packages (from category_encoders) (1.26.4)\n",
      "Requirement already satisfied: pandas>=1.0.5 in /Library/Frameworks/Python.framework/Versions/3.12/lib/python3.12/site-packages (from category_encoders) (2.2.3)\n",
      "Requirement already satisfied: patsy>=0.5.1 in /Library/Frameworks/Python.framework/Versions/3.12/lib/python3.12/site-packages (from category_encoders) (1.0.1)\n",
      "Requirement already satisfied: scikit-learn>=1.6.0 in /Library/Frameworks/Python.framework/Versions/3.12/lib/python3.12/site-packages (from category_encoders) (1.6.1)\n",
      "Requirement already satisfied: scipy>=1.0.0 in /Library/Frameworks/Python.framework/Versions/3.12/lib/python3.12/site-packages (from category_encoders) (1.13.1)\n",
      "Requirement already satisfied: statsmodels>=0.9.0 in /Library/Frameworks/Python.framework/Versions/3.12/lib/python3.12/site-packages (from category_encoders) (0.14.4)\n",
      "Requirement already satisfied: python-dateutil>=2.8.2 in /Library/Frameworks/Python.framework/Versions/3.12/lib/python3.12/site-packages (from pandas>=1.0.5->category_encoders) (2.9.0.post0)\n",
      "Requirement already satisfied: pytz>=2020.1 in /Library/Frameworks/Python.framework/Versions/3.12/lib/python3.12/site-packages (from pandas>=1.0.5->category_encoders) (2024.2)\n",
      "Requirement already satisfied: tzdata>=2022.7 in /Library/Frameworks/Python.framework/Versions/3.12/lib/python3.12/site-packages (from pandas>=1.0.5->category_encoders) (2024.2)\n",
      "Requirement already satisfied: joblib>=1.2.0 in /Library/Frameworks/Python.framework/Versions/3.12/lib/python3.12/site-packages (from scikit-learn>=1.6.0->category_encoders) (1.4.2)\n",
      "Requirement already satisfied: threadpoolctl>=3.1.0 in /Library/Frameworks/Python.framework/Versions/3.12/lib/python3.12/site-packages (from scikit-learn>=1.6.0->category_encoders) (3.5.0)\n",
      "Requirement already satisfied: packaging>=21.3 in /Library/Frameworks/Python.framework/Versions/3.12/lib/python3.12/site-packages (from statsmodels>=0.9.0->category_encoders) (24.2)\n",
      "Requirement already satisfied: six>=1.5 in /Library/Frameworks/Python.framework/Versions/3.12/lib/python3.12/site-packages (from python-dateutil>=2.8.2->pandas>=1.0.5->category_encoders) (1.17.0)\n",
      "\n",
      "\u001b[1m[\u001b[0m\u001b[34;49mnotice\u001b[0m\u001b[1;39;49m]\u001b[0m\u001b[39;49m A new release of pip is available: \u001b[0m\u001b[31;49m24.3.1\u001b[0m\u001b[39;49m -> \u001b[0m\u001b[32;49m25.0.1\u001b[0m\n",
      "\u001b[1m[\u001b[0m\u001b[34;49mnotice\u001b[0m\u001b[1;39;49m]\u001b[0m\u001b[39;49m To update, run: \u001b[0m\u001b[32;49mpip install --upgrade pip\u001b[0m\n"
     ]
    }
   ],
   "source": [
    "!pip install pandas\n",
    "!pip install scikit-learn\n",
    "!pip install category_encoders"
   ]
  },
  {
   "cell_type": "code",
   "execution_count": 6,
   "metadata": {},
   "outputs": [
    {
     "name": "stderr",
     "output_type": "stream",
     "text": [
      "/var/folders/0y/351vn2xd0b1870yhsr8gwh2m0000gn/T/ipykernel_34653/590225929.py:3: DtypeWarning: Columns (0,3,5,6,7,8,9,10,11,24) have mixed types. Specify dtype option on import or set low_memory=False.\n",
      "  data = pd.read_csv('dataset.csv')\n"
     ]
    }
   ],
   "source": [
    "import pandas as pd\n",
    "\n",
    "data = pd.read_csv('dataset.csv')\n"
   ]
  },
  {
   "cell_type": "code",
   "execution_count": 7,
   "metadata": {},
   "outputs": [
    {
     "data": {
      "text/plain": [
       "0        2001\n",
       "1        2017\n",
       "2        2005\n",
       "3        2012\n",
       "4        2019\n",
       "         ... \n",
       "41064    <NA>\n",
       "41065    <NA>\n",
       "41066    <NA>\n",
       "41067    <NA>\n",
       "41068    <NA>\n",
       "Name: year, Length: 41069, dtype: Int64"
      ]
     },
     "execution_count": 7,
     "metadata": {},
     "output_type": "execute_result"
    }
   ],
   "source": [
    "# Convert the column to datetime if it isn't already\n",
    "data['track_album_release_date'] = pd.to_datetime(data['track_album_release_date'], errors='coerce')\n",
    "\n",
    "# Convert track album to year\n",
    "#data['year'] = data['track_album_release_date'].dt.year.fillna(-1).astype(int).astype(str)\n",
    "\n",
    "# Extract just the year\n",
    "data['year'] = data['track_album_release_date'].dt.year.astype('Int64')\n",
    "data['year']"
   ]
  },
  {
   "cell_type": "code",
   "execution_count": 8,
   "metadata": {},
   "outputs": [
    {
     "data": {
      "text/plain": [
       "40721"
      ]
     },
     "execution_count": 8,
     "metadata": {},
     "output_type": "execute_result"
    }
   ],
   "source": [
    "data = data.dropna(subset=['track_popularity'])\n",
    "data.shape[0]"
   ]
  },
  {
   "cell_type": "markdown",
   "metadata": {},
   "source": []
  },
  {
   "cell_type": "code",
   "execution_count": 9,
   "metadata": {},
   "outputs": [
    {
     "name": "stdout",
     "output_type": "stream",
     "text": [
      "Test MSE: 356.21\n"
     ]
    }
   ],
   "source": [
    "from sklearn.model_selection import train_test_split # splits training from real data \n",
    "from sklearn.pipeline import Pipeline\n",
    "# applies transformations to diff sub # chains processing sets\n",
    "from sklearn.compose import ColumnTransformer\n",
    "from category_encoders import TargetEncoder\n",
    "from sklearn.preprocessing import OneHotEncoder, StandardScaler, FunctionTransformer\n",
    "from sklearn.feature_extraction.text import TfidfVectorizer\n",
    "from  sklearn.ensemble import RandomForestRegressor, HistGradientBoostingRegressor  # You can swap with any regressor\n",
    "from sklearn.metrics import mean_squared_error\n",
    "\n",
    "\n",
    "data['lyrics'] = data['lyrics'].fillna('')\n",
    "# we will use these variables will predict track_popularity\n",
    "numerical_features = ['danceability', 'energy', 'speechiness', 'acousticness', 'instrumentalness', 'liveness', 'valence', 'tempo', 'duration_ms']\n",
    "categorical_features = 'year'\n",
    "text_feature = 'lyrics'\n",
    "target = 'track_popularity'\n",
    "encode_artist = 'track_artist'\n",
    "\n",
    "text_pipeline = Pipeline([\n",
    "    ('tfidf', TfidfVectorizer(max_features=5000)),\n",
    "    ('to_dense', FunctionTransformer(lambda x: x.toarray(), accept_sparse=True))\n",
    "])\n",
    "\n",
    "preprocessor = ColumnTransformer(\n",
    "    transformers=[\n",
    "        ('numerical', StandardScaler(), numerical_features),\n",
    "        ('text', text_pipeline, text_feature),\n",
    "        ('categorical', OneHotEncoder(), [categorical_features]),\n",
    "        ('artist', TargetEncoder(), [encode_artist])\n",
    "    ]\n",
    ")\n",
    "\n",
    "X = data[numerical_features + [text_feature, categorical_features, encode_artist]]\n",
    "y = data[target]\n",
    "\n",
    "pipeline = Pipeline(\n",
    "    steps=[\n",
    "        ('preprocessor', preprocessor),\n",
    "        #('regressor', RandomForestRegressor(n_estimators=1000, random_state=42))    \n",
    "        ('regressor', HistGradientBoostingRegressor(random_state=42))\n",
    "    ]\n",
    ")\n",
    "\n",
    "X_train, X_test, y_train, y_test = train_test_split(X, y, test_size=0.2, random_state=42)\n",
    "\n",
    "pipeline.fit(X_train, y_train)\n",
    "\n",
    "y_pred = pipeline.predict(X_test)\n",
    "\n",
    "mse = mean_squared_error(y_test, y_pred)\n",
    "print(f\"Test MSE: {mse:.2f}\")\n"
   ]
  },
  {
   "cell_type": "code",
   "execution_count": 10,
   "metadata": {},
   "outputs": [
    {
     "name": "stdout",
     "output_type": "stream",
     "text": [
      "Test MSE: 356.49\n"
     ]
    }
   ],
   "source": [
    "# Impute missing values: use KNN or similar imputation so there are no nan values\n",
    "# The MSE will be higher using KNN imputer as its not meant to improve the performance\n",
    "# It uses similar (nearby) rows to guess a good value instead of using nan, cleaning up the data\n",
    "from sklearn.impute import KNNImputer\n",
    "\n",
    "numerical_pipeline = Pipeline([\n",
    "    ('imputer', KNNImputer(n_neighbors=5)),   # You can adjust n_neighbors\n",
    "    ('scaler', StandardScaler())\n",
    "])\n",
    "\n",
    "preprocessor = ColumnTransformer(\n",
    "    transformers=[\n",
    "        ('numerical', numerical_pipeline, numerical_features),\n",
    "        ('text', text_pipeline, text_feature),\n",
    "        ('categorical', OneHotEncoder(), [categorical_features]),\n",
    "        ('artist', TargetEncoder(), [encode_artist])\n",
    "    ]\n",
    ")\n",
    "\n",
    "X = data[numerical_features + [text_feature, categorical_features, encode_artist]]\n",
    "y = data[target]\n",
    "\n",
    "pipeline = Pipeline(\n",
    "    steps=[\n",
    "        ('preprocessor', preprocessor),\n",
    "        #('regressor', RandomForestRegressor(n_estimators=1000, random_state=42))    \n",
    "        ('regressor', HistGradientBoostingRegressor(random_state=42))\n",
    "    ]\n",
    ")\n",
    "\n",
    "X_train, X_test, y_train, y_test = train_test_split(X, y, test_size=0.2, random_state=42)\n",
    "\n",
    "pipeline.fit(X_train, y_train)\n",
    "\n",
    "y_pred = pipeline.predict(X_test)\n",
    "\n",
    "mse = mean_squared_error(y_test, y_pred)\n",
    "print(f\"Test MSE: {mse:.2f}\")"
   ]
  },
  {
   "cell_type": "code",
   "execution_count": 11,
   "metadata": {},
   "outputs": [
    {
     "name": "stdout",
     "output_type": "stream",
     "text": [
      "Test MSE: 347.17\n"
     ]
    }
   ],
   "source": [
    "# adding more predictor variables, using standard scaler\n",
    "data['lyrics'] = data['lyrics'].fillna('')\n",
    "# we will use these variables will predict track_popularity\n",
    "data['song_length_minutes'] = data['duration_ms'] / 60000\n",
    "data['has_lyrics'] = data['lyrics'].apply(lambda x: 0 if x.strip() == '' else 1)\n",
    "current_year = 2025\n",
    "data['track_age'] = current_year - data['year'].fillna(current_year).astype(int)\n",
    "data['lyrics_length'] = data['lyrics'].apply(lambda x: len(x.split()))\n",
    "\n",
    "def bucket_tempo(t):\n",
    "    if t < 90:\n",
    "        return 0\n",
    "    elif t < 140:\n",
    "        return 1\n",
    "    else:\n",
    "        return 2\n",
    "\n",
    "data['tempo_bucket'] = data['tempo'].apply(bucket_tempo)\n",
    "\n",
    "numerical_features = ['danceability', 'energy', 'speechiness', 'acousticness', \n",
    "                      'instrumentalness', 'liveness', 'valence', 'tempo', \n",
    "                      'duration_ms', 'song_length_minutes', 'has_lyrics', \n",
    "                      'track_age', 'lyrics_length', 'tempo_bucket']\n",
    "categorical_features = 'year'\n",
    "text_feature = 'lyrics'\n",
    "target = 'track_popularity'\n",
    "encode_artist = 'track_artist'\n",
    "\n",
    "text_pipeline = Pipeline([\n",
    "    ('tfidf', TfidfVectorizer(max_features=5000)),\n",
    "    ('to_dense', FunctionTransformer(lambda x: x.toarray(), accept_sparse=True))\n",
    "])\n",
    "\n",
    "preprocessor = ColumnTransformer(\n",
    "    transformers=[\n",
    "        ('numerical', StandardScaler(), numerical_features),\n",
    "        ('text', text_pipeline, text_feature),\n",
    "        ('categorical', OneHotEncoder(), [categorical_features]),\n",
    "        ('artist', TargetEncoder(), [encode_artist])\n",
    "    ]\n",
    ")\n",
    "\n",
    "X = data[numerical_features + [text_feature, categorical_features, encode_artist]]\n",
    "y = data[target]\n",
    "\n",
    "pipeline = Pipeline(\n",
    "    steps=[\n",
    "        ('preprocessor', preprocessor),\n",
    "        #('regressor', RandomForestRegressor(n_estimators=1000, random_state=42))    \n",
    "        ('regressor', HistGradientBoostingRegressor(random_state=42))\n",
    "    ]\n",
    ")\n",
    "\n",
    "X_train, X_test, y_train, y_test = train_test_split(X, y, test_size=0.2, random_state=42)\n",
    "\n",
    "pipeline.fit(X_train, y_train)\n",
    "\n",
    "y_pred = pipeline.predict(X_test)\n",
    "\n",
    "mse = mean_squared_error(y_test, y_pred)\n",
    "print(f\"Test MSE: {mse:.2f}\")"
   ]
  },
  {
   "cell_type": "code",
   "execution_count": null,
   "metadata": {},
   "outputs": [
    {
     "name": "stderr",
     "output_type": "stream",
     "text": [
      "/var/folders/0y/351vn2xd0b1870yhsr8gwh2m0000gn/T/ipykernel_34653/2240215135.py:15: DtypeWarning: Columns (0,3,5,6,7,8,9,10,11,24) have mixed types. Specify dtype option on import or set low_memory=False.\n",
      "  data = pd.read_csv('dataset.csv')\n"
     ]
    },
    {
     "name": "stdout",
     "output_type": "stream",
     "text": [
      "Fitting 3 folds for each of 1 candidates, totalling 3 fits\n"
     ]
    }
   ],
   "source": [
    "# --- FULL RANDOM-FOREST GRID-SEARCH + PLOT (final fix) ----------\n",
    "import pandas as pd\n",
    "import numpy as np\n",
    "from sklearn.model_selection import train_test_split, GridSearchCV\n",
    "from sklearn.compose import ColumnTransformer\n",
    "from sklearn.preprocessing import StandardScaler, OneHotEncoder, FunctionTransformer\n",
    "from sklearn.pipeline import Pipeline\n",
    "from sklearn.metrics import mean_squared_error, r2_score\n",
    "from sklearn.ensemble import RandomForestRegressor\n",
    "from sklearn.feature_extraction.text import TfidfVectorizer\n",
    "from category_encoders import TargetEncoder\n",
    "import matplotlib.pyplot as plt\n",
    "\n",
    "# 1) LOAD --------------------------------------------------------\n",
    "data = pd.read_csv('dataset.csv')\n",
    "\n",
    "# 👉 drop rows where the target is NaN\n",
    "data = data.dropna(subset=['track_popularity'])\n",
    "\n",
    "data['lyrics'] = data['lyrics'].fillna('')\n",
    "\n",
    "# Derive 'year' safely\n",
    "if 'track_album_release_date' in data.columns:\n",
    "    data['track_album_release_date'] = pd.to_datetime(\n",
    "        data['track_album_release_date'], errors='coerce')\n",
    "    data['year'] = data['track_album_release_date'].dt.year\n",
    "\n",
    "# 2) EXTRA FEATURES ---------------------------------------------\n",
    "data['song_length_minutes'] = data['duration_ms'] / 60_000\n",
    "data['has_lyrics']        = data['lyrics'].str.strip().ne('').astype(int)\n",
    "current_year = 2025\n",
    "data['track_age']         = current_year - data['year'].fillna(current_year)\n",
    "data['lyrics_length']     = data['lyrics'].str.split().apply(len)\n",
    "\n",
    "def bucket_tempo(t): return 0 if t < 90 else 1 if t < 140 else 2\n",
    "data['tempo_bucket']      = data['tempo'].apply(bucket_tempo)\n",
    "\n",
    "# 3) FEATURE LISTS ----------------------------------------------\n",
    "numeric_features_all = [\n",
    "    'danceability','energy','speechiness','acousticness','instrumentalness',\n",
    "    'liveness','valence','tempo','duration_ms','song_length_minutes',\n",
    "    'track_age','lyrics_length'\n",
    "]\n",
    "numeric_features = [c for c in numeric_features_all if c in data.columns]\n",
    "\n",
    "categorical_features_all = [\n",
    "    'year','mode','playlist_genre','playlist_subgenre',\n",
    "    'tempo_bucket','key','has_lyrics'\n",
    "]\n",
    "categorical_features = [c for c in categorical_features_all if c in data.columns]\n",
    "\n",
    "text_feature   = 'lyrics'\n",
    "artist_feature = 'track_artist'\n",
    "target         = 'track_popularity'\n",
    "\n",
    "X = data[numeric_features + categorical_features + [text_feature, artist_feature]]\n",
    "y = data[target]\n",
    "\n",
    "# 4) PIPELINES ---------------------------------------------------\n",
    "text_pipeline = Pipeline([\n",
    "    ('tfidf',     TfidfVectorizer(max_features=5000)),\n",
    "    ('to_dense',  FunctionTransformer(lambda x: x.toarray(), accept_sparse=True))\n",
    "])\n",
    "\n",
    "artist_encoder = TargetEncoder(handle_unknown='value',\n",
    "                               handle_missing='value',\n",
    "                               smoothing=0.2)\n",
    "\n",
    "preprocessor = ColumnTransformer([\n",
    "    ('num',    StandardScaler(),                   numeric_features),\n",
    "    ('cat',    OneHotEncoder(handle_unknown='ignore'), categorical_features),\n",
    "    ('text',   text_pipeline,                     text_feature),\n",
    "    ('artist', artist_encoder,                    [artist_feature])\n",
    "])\n",
    "\n",
    "# 5) TRAIN / TEST SPLIT -----------------------------------------\n",
    "X_train, X_test, y_train, y_test = train_test_split(\n",
    "    X, y, test_size=0.20, random_state=42)\n",
    "\n",
    "# down-sample to 5 000 rows for quick tuning\n",
    "small_X = X_train.sample(min(5000, len(X_train)), random_state=42)\n",
    "small_y = y_train.loc[small_X.index]\n",
    "\n",
    "# 6) MODEL + GRID -----------------------------------------------\n",
    "rf_pipeline = Pipeline([\n",
    "    ('preprocessor', preprocessor),\n",
    "    ('regressor',    RandomForestRegressor(random_state=42))\n",
    "])\n",
    "\n",
    "rf_grid = {\n",
    "    'regressor__n_estimators':     [300],\n",
    "    'regressor__max_depth':        [10],\n",
    "    'regressor__min_samples_leaf': [1]\n",
    "}\n",
    "\n",
    "# 7) GRID SEARCH -------------------------------------------------\n",
    "rf_search = GridSearchCV(\n",
    "    rf_pipeline, rf_grid,\n",
    "    cv=3,\n",
    "    scoring='neg_mean_squared_error',\n",
    "    n_jobs=-1,\n",
    "    verbose=1\n",
    ")\n",
    "\n",
    "rf_search.fit(small_X, small_y)\n",
    "best_model = rf_search.best_estimator_\n",
    "rf_pred    = best_model.predict(X_test)\n",
    "\n",
    "# 8) METRICS + PLOT ---------------------------------------------\n",
    "mse = mean_squared_error(y_test, rf_pred)\n",
    "r2  = r2_score(y_test, rf_pred)\n",
    "\n",
    "print(\"✅ Best parameters :\", rf_search.best_params_)\n",
    "print(f\"📉 MSE            : {mse:.2f}\")\n",
    "print(f\"📈 R²             : {r2:.3f}\")\n",
    "\n",
    "plt.figure(figsize=(6,6))\n",
    "plt.scatter(y_test, rf_pred, alpha=0.3)\n",
    "plt.plot([0,100], [0,100], 'r--')\n",
    "plt.xlabel('Actual Popularity')\n",
    "plt.ylabel('Predicted Popularity')\n",
    "plt.title('Predicted vs Actual Popularity')\n",
    "plt.grid(True)\n",
    "plt.show()\n",
    "# ---------------------------------------------------------------\n"
   ]
  }
 ],
 "metadata": {
  "kernelspec": {
   "display_name": "Python 3",
   "language": "python",
   "name": "python3"
  },
  "language_info": {
   "codemirror_mode": {
    "name": "ipython",
    "version": 3
   },
   "file_extension": ".py",
   "mimetype": "text/x-python",
   "name": "python",
   "nbconvert_exporter": "python",
   "pygments_lexer": "ipython3",
   "version": "3.12.1"
  }
 },
 "nbformat": 4,
 "nbformat_minor": 2
}
