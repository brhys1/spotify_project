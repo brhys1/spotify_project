{
 "cells": [
  {
   "cell_type": "code",
   "execution_count": 36,
   "metadata": {},
   "outputs": [
    {
     "name": "stdout",
     "output_type": "stream",
     "text": [
      "Requirement already satisfied: pandas in /Users/christianfiuczynski/spotify_project/.venv/lib/python3.13/site-packages (2.2.3)\n",
      "Requirement already satisfied: numpy>=1.26.0 in /Users/christianfiuczynski/spotify_project/.venv/lib/python3.13/site-packages (from pandas) (2.2.5)\n",
      "Requirement already satisfied: python-dateutil>=2.8.2 in /Users/christianfiuczynski/spotify_project/.venv/lib/python3.13/site-packages (from pandas) (2.9.0.post0)\n",
      "Requirement already satisfied: pytz>=2020.1 in /Users/christianfiuczynski/spotify_project/.venv/lib/python3.13/site-packages (from pandas) (2025.2)\n",
      "Requirement already satisfied: tzdata>=2022.7 in /Users/christianfiuczynski/spotify_project/.venv/lib/python3.13/site-packages (from pandas) (2025.2)\n",
      "Requirement already satisfied: six>=1.5 in /Users/christianfiuczynski/spotify_project/.venv/lib/python3.13/site-packages (from python-dateutil>=2.8.2->pandas) (1.17.0)\n",
      "Requirement already satisfied: scikit-learn in /Users/christianfiuczynski/spotify_project/.venv/lib/python3.13/site-packages (1.6.1)\n",
      "Requirement already satisfied: numpy>=1.19.5 in /Users/christianfiuczynski/spotify_project/.venv/lib/python3.13/site-packages (from scikit-learn) (2.2.5)\n",
      "Requirement already satisfied: scipy>=1.6.0 in /Users/christianfiuczynski/spotify_project/.venv/lib/python3.13/site-packages (from scikit-learn) (1.15.2)\n",
      "Requirement already satisfied: joblib>=1.2.0 in /Users/christianfiuczynski/spotify_project/.venv/lib/python3.13/site-packages (from scikit-learn) (1.4.2)\n",
      "Requirement already satisfied: threadpoolctl>=3.1.0 in /Users/christianfiuczynski/spotify_project/.venv/lib/python3.13/site-packages (from scikit-learn) (3.6.0)\n",
      "Requirement already satisfied: category_encoders in /Users/christianfiuczynski/spotify_project/.venv/lib/python3.13/site-packages (2.8.1)\n",
      "Requirement already satisfied: numpy>=1.14.0 in /Users/christianfiuczynski/spotify_project/.venv/lib/python3.13/site-packages (from category_encoders) (2.2.5)\n",
      "Requirement already satisfied: pandas>=1.0.5 in /Users/christianfiuczynski/spotify_project/.venv/lib/python3.13/site-packages (from category_encoders) (2.2.3)\n",
      "Requirement already satisfied: patsy>=0.5.1 in /Users/christianfiuczynski/spotify_project/.venv/lib/python3.13/site-packages (from category_encoders) (1.0.1)\n",
      "Requirement already satisfied: scikit-learn>=1.6.0 in /Users/christianfiuczynski/spotify_project/.venv/lib/python3.13/site-packages (from category_encoders) (1.6.1)\n",
      "Requirement already satisfied: scipy>=1.0.0 in /Users/christianfiuczynski/spotify_project/.venv/lib/python3.13/site-packages (from category_encoders) (1.15.2)\n",
      "Requirement already satisfied: statsmodels>=0.9.0 in /Users/christianfiuczynski/spotify_project/.venv/lib/python3.13/site-packages (from category_encoders) (0.14.4)\n",
      "Requirement already satisfied: python-dateutil>=2.8.2 in /Users/christianfiuczynski/spotify_project/.venv/lib/python3.13/site-packages (from pandas>=1.0.5->category_encoders) (2.9.0.post0)\n",
      "Requirement already satisfied: pytz>=2020.1 in /Users/christianfiuczynski/spotify_project/.venv/lib/python3.13/site-packages (from pandas>=1.0.5->category_encoders) (2025.2)\n",
      "Requirement already satisfied: tzdata>=2022.7 in /Users/christianfiuczynski/spotify_project/.venv/lib/python3.13/site-packages (from pandas>=1.0.5->category_encoders) (2025.2)\n",
      "Requirement already satisfied: joblib>=1.2.0 in /Users/christianfiuczynski/spotify_project/.venv/lib/python3.13/site-packages (from scikit-learn>=1.6.0->category_encoders) (1.4.2)\n",
      "Requirement already satisfied: threadpoolctl>=3.1.0 in /Users/christianfiuczynski/spotify_project/.venv/lib/python3.13/site-packages (from scikit-learn>=1.6.0->category_encoders) (3.6.0)\n",
      "Requirement already satisfied: packaging>=21.3 in /Users/christianfiuczynski/spotify_project/.venv/lib/python3.13/site-packages (from statsmodels>=0.9.0->category_encoders) (25.0)\n",
      "Requirement already satisfied: six>=1.5 in /Users/christianfiuczynski/spotify_project/.venv/lib/python3.13/site-packages (from python-dateutil>=2.8.2->pandas>=1.0.5->category_encoders) (1.17.0)\n"
     ]
    }
   ],
   "source": [
    "!pip install pandas\n",
    "!pip install scikit-learn\n",
    "!pip install category_encoders"
   ]
  },
  {
   "cell_type": "code",
   "execution_count": 37,
   "metadata": {},
   "outputs": [
    {
     "name": "stderr",
     "output_type": "stream",
     "text": [
      "/var/folders/_p/m7f8hp650t92cq6flzv6syx40000gn/T/ipykernel_46216/590225929.py:3: DtypeWarning: Columns (0,3,5,6,7,8,9,10,11,24) have mixed types. Specify dtype option on import or set low_memory=False.\n",
      "  data = pd.read_csv('dataset.csv')\n"
     ]
    }
   ],
   "source": [
    "import pandas as pd\n",
    "\n",
    "data = pd.read_csv('dataset.csv')\n"
   ]
  },
  {
   "cell_type": "code",
   "execution_count": 38,
   "metadata": {},
   "outputs": [
    {
     "data": {
      "text/plain": [
       "0        2001\n",
       "1        2017\n",
       "2        2005\n",
       "3        2012\n",
       "4        2019\n",
       "         ... \n",
       "41064    <NA>\n",
       "41065    <NA>\n",
       "41066    <NA>\n",
       "41067    <NA>\n",
       "41068    <NA>\n",
       "Name: year, Length: 41069, dtype: Int64"
      ]
     },
     "execution_count": 38,
     "metadata": {},
     "output_type": "execute_result"
    }
   ],
   "source": [
    "# Convert the column to datetime if it isn't already\n",
    "data['track_album_release_date'] = pd.to_datetime(data['track_album_release_date'], errors='coerce')\n",
    "\n",
    "# Convert track album to year\n",
    "#data['year'] = data['track_album_release_date'].dt.year.fillna(-1).astype(int).astype(str)\n",
    "\n",
    "# Extract just the year\n",
    "data['year'] = data['track_album_release_date'].dt.year.astype('Int64')\n",
    "data['year']"
   ]
  },
  {
   "cell_type": "code",
   "execution_count": 39,
   "metadata": {},
   "outputs": [
    {
     "data": {
      "text/plain": [
       "40721"
      ]
     },
     "execution_count": 39,
     "metadata": {},
     "output_type": "execute_result"
    }
   ],
   "source": [
    "data = data.dropna(subset=['track_popularity'])\n",
    "data.shape[0]"
   ]
  },
  {
   "cell_type": "markdown",
   "metadata": {},
   "source": []
  },
  {
   "cell_type": "code",
   "execution_count": 40,
   "metadata": {},
   "outputs": [
    {
     "name": "stdout",
     "output_type": "stream",
     "text": [
      "Test MSE: 356.21\n"
     ]
    }
   ],
   "source": [
    "from sklearn.model_selection import train_test_split # splits training from real data \n",
    "from sklearn.pipeline import Pipeline\n",
    "# applies transformations to diff sub # chains processing sets\n",
    "from sklearn.compose import ColumnTransformer\n",
    "from category_encoders import TargetEncoder\n",
    "from sklearn.preprocessing import OneHotEncoder, StandardScaler, FunctionTransformer\n",
    "from sklearn.feature_extraction.text import TfidfVectorizer\n",
    "from  sklearn.ensemble import RandomForestRegressor, HistGradientBoostingRegressor  # You can swap with any regressor\n",
    "from sklearn.metrics import mean_squared_error\n",
    "\n",
    "\n",
    "data['lyrics'] = data['lyrics'].fillna('')\n",
    "# we will use these variables will predict track_popularity\n",
    "numerical_features = ['danceability', 'energy', 'speechiness', 'acousticness', 'instrumentalness', 'liveness', 'valence', 'tempo', 'duration_ms']\n",
    "categorical_features = 'year'\n",
    "text_feature = 'lyrics'\n",
    "target = 'track_popularity'\n",
    "encode_artist = 'track_artist'\n",
    "\n",
    "text_pipeline = Pipeline([\n",
    "    ('tfidf', TfidfVectorizer(max_features=5000)),\n",
    "    ('to_dense', FunctionTransformer(lambda x: x.toarray(), accept_sparse=True))\n",
    "])\n",
    "\n",
    "preprocessor = ColumnTransformer(\n",
    "    transformers=[\n",
    "        ('numerical', StandardScaler(), numerical_features),\n",
    "        ('text', text_pipeline, text_feature),\n",
    "        ('categorical', OneHotEncoder(), [categorical_features]),\n",
    "        ('artist', TargetEncoder(), [encode_artist])\n",
    "    ]\n",
    ")\n",
    "\n",
    "X = data[numerical_features + [text_feature, categorical_features, encode_artist]]\n",
    "y = data[target]\n",
    "\n",
    "pipeline = Pipeline(\n",
    "    steps=[\n",
    "        ('preprocessor', preprocessor),\n",
    "        #('regressor', RandomForestRegressor(n_estimators=1000, random_state=42))    \n",
    "        ('regressor', HistGradientBoostingRegressor(random_state=42))\n",
    "    ]\n",
    ")\n",
    "\n",
    "X_train, X_test, y_train, y_test = train_test_split(X, y, test_size=0.2, random_state=42)\n",
    "\n",
    "pipeline.fit(X_train, y_train)\n",
    "\n",
    "y_pred = pipeline.predict(X_test)\n",
    "\n",
    "mse = mean_squared_error(y_test, y_pred)\n",
    "print(f\"Test MSE: {mse:.2f}\")\n"
   ]
  },
  {
   "cell_type": "code",
   "execution_count": null,
   "metadata": {},
   "outputs": [
    {
     "name": "stdout",
     "output_type": "stream",
     "text": [
      "Test MSE: 356.49\n"
     ]
    }
   ],
   "source": [
    "# Impute missing values: use KNN or similar imputation so there are no nan values\n",
    "# The MSE will be higher using KNN imputer as its not meant to improve the performance\n",
    "# It uses similar (nearby) rows to guess a good value instead of using nan, cleaning up the data\n",
    "from sklearn.impute import KNNImputer\n",
    "\n",
    "numerical_pipeline = Pipeline([\n",
    "    ('imputer', KNNImputer(n_neighbors=5)),   # You can adjust n_neighbors\n",
    "    ('scaler', StandardScaler())\n",
    "])\n",
    "\n",
    "preprocessor = ColumnTransformer(\n",
    "    transformers=[\n",
    "        ('numerical', numerical_pipeline, numerical_features),\n",
    "        ('text', text_pipeline, text_feature),\n",
    "        ('categorical', OneHotEncoder(), [categorical_features]),\n",
    "        ('artist', TargetEncoder(), [encode_artist])\n",
    "    ]\n",
    ")\n",
    "\n",
    "X = data[numerical_features + [text_feature, categorical_features, encode_artist]]\n",
    "y = data[target]\n",
    "\n",
    "pipeline = Pipeline(\n",
    "    steps=[\n",
    "        ('preprocessor', preprocessor),\n",
    "        #('regressor', RandomForestRegressor(n_estimators=1000, random_state=42))    \n",
    "        ('regressor', HistGradientBoostingRegressor(random_state=42))\n",
    "    ]\n",
    ")\n",
    "\n",
    "X_train, X_test, y_train, y_test = train_test_split(X, y, test_size=0.2, random_state=42)\n",
    "\n",
    "pipeline.fit(X_train, y_train)\n",
    "\n",
    "y_pred = pipeline.predict(X_test)\n",
    "\n",
    "mse = mean_squared_error(y_test, y_pred)\n",
    "print(f\"Test MSE: {mse:.2f}\")"
   ]
  }
 ],
 "metadata": {
  "kernelspec": {
   "display_name": ".venv",
   "language": "python",
   "name": "python3"
  },
  "language_info": {
   "codemirror_mode": {
    "name": "ipython",
    "version": 3
   },
   "file_extension": ".py",
   "mimetype": "text/x-python",
   "name": "python",
   "nbconvert_exporter": "python",
   "pygments_lexer": "ipython3",
   "version": "3.13.2"
  }
 },
 "nbformat": 4,
 "nbformat_minor": 2
}
