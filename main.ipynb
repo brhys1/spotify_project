{
 "cells": [
  {
   "cell_type": "markdown",
   "metadata": {},
   "source": [
    "**SPOTIFY PROJECT**"
   ]
  },
  {
   "cell_type": "code",
   "execution_count": null,
   "metadata": {},
   "outputs": [],
   "source": [
    "CLIENT_ID='339311402add405fba5b4e61261b8f81'\n",
    "CLIENT_SECRET = '2b9207ffaa764c30a9fcc9ebc25aa80d'\n",
    "REDIRECT_URI='https://example.com/callback' \n",
    "\n"
   ]
  }
 ],
 "metadata": {
  "kernelspec": {
   "display_name": "Python 3",
   "language": "python",
   "name": "python3"
  },
  "language_info": {
   "name": "python",
   "version": "3.10.12"
  }
 },
 "nbformat": 4,
 "nbformat_minor": 2
}
