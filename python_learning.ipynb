{
 "cells": [
  {
   "cell_type": "markdown",
   "metadata": {},
   "source": [
    "General Stuff:\n",
    "\n",
    "Use ctrl + enter to run cells<br>\n",
    "Variables save between cells<br>\n",
    "If you don't have an = statement, the bottom line will print, really nice for printing dataframes"
   ]
  },
  {
   "cell_type": "code",
   "execution_count": null,
   "metadata": {},
   "outputs": [],
   "source": [
    "#basic python stuff\n",
    "\n",
    "x = 10 #declares a variable, no need for types\n",
    "my_data = dict() #if I specifically want to include some type\n",
    "\n",
    "print('if statment')\n",
    "if x==10:\n",
    "    print(10)\n",
    "\n",
    "print('\\nrage for loop')\n",
    "for i in range(3,x,2): #first is starting point, middle is ending point (not inclusive), last is step size\n",
    "    print(i)\n",
    "\n",
    "print('\\nlist for loop')\n",
    "stuff = ['hi', 'I', 'love', 'KTP']\n",
    "for thing in stuff:\n",
    "    print(thing)\n",
    "\n",
    "print('\\nlist for dictionary')\n",
    "\n",
    "my_data['t-shirts'] = 10\n",
    "my_data['socks'] = 15\n",
    "my_data['underwear'] = 15\n",
    "my_data['pants'] = 5\n",
    "my_data['hoddies'] = 3\n",
    "\n",
    "for key, data in my_data.items():\n",
    "    print(f'{key}: {data}')\n",
    "\n",
    "print('\\naccessing one value in a dictionary')\n",
    "print(f\"printing the number of socks: {my_data['socks']}\")"
   ]
  },
  {
   "cell_type": "code",
   "execution_count": null,
   "metadata": {},
   "outputs": [],
   "source": [
    "import pandas as pd\n",
    "\n",
    "owners_df = pd.read_csv('practice_data/owners.csv')\n",
    "pets_df = pd.read_csv('practice_data/pets.csv')"
   ]
  },
  {
   "cell_type": "code",
   "execution_count": null,
   "metadata": {},
   "outputs": [],
   "source": [
    "owners_df"
   ]
  },
  {
   "cell_type": "code",
   "execution_count": null,
   "metadata": {},
   "outputs": [],
   "source": [
    "pets_df"
   ]
  },
  {
   "cell_type": "code",
   "execution_count": null,
   "metadata": {},
   "outputs": [],
   "source": [
    "#accessing columns in data frames\n",
    "pets_df['Name']"
   ]
  },
  {
   "cell_type": "code",
   "execution_count": null,
   "metadata": {},
   "outputs": [],
   "source": [
    "#understanding the data\n",
    "#we can just look at the data with something like\n",
    "pets_df['Age'].value_counts().sort_index().reset_index()"
   ]
  },
  {
   "cell_type": "code",
   "execution_count": null,
   "metadata": {},
   "outputs": [],
   "source": [
    "#or we can make simple graphs to view distribution better\n",
    "import plotly.express as px\n",
    "import pandas as pd\n",
    "import numpy as np\n",
    "\n",
    "# Create bar chart\n",
    "age_counts= pets_df['Age'].value_counts().sort_index().reset_index()\n",
    "\n",
    "fig = px.bar(\n",
    "    age_counts,\n",
    "    x='Age',\n",
    "    y='count',\n",
    "    text='count',  # Display count values on bars\n",
    "    title=\"Distribution of Pet Ages\",\n",
    "    labels={'Age': 'Pet Age', 'count': 'Number of Pets'},  # Axis labels\n",
    "    color='count',  # Color bars based on count for better visualization\n",
    "    color_continuous_scale='Blues'  # Aesthetic color scale\n",
    ")\n",
    "\n",
    "# Show figure\n",
    "fig.show()\n"
   ]
  },
  {
   "cell_type": "code",
   "execution_count": null,
   "metadata": {},
   "outputs": [],
   "source": [
    "#we can filter our data\n",
    "print(pets_df[(pets_df['Kind'] == 'Dog') & (pets_df['Age'] > 10)].shape[0]) #prints number of dogs above the age of 10\n",
    "pets_df[(pets_df['Kind'] == 'Dog') & (pets_df['Age'] > 10)].sort_values('Name')\n"
   ]
  },
  {
   "cell_type": "code",
   "execution_count": null,
   "metadata": {},
   "outputs": [],
   "source": [
    "#this has a few things happening here\n",
    "#first it groups by the type of animal (so cat, dog, and parrot)\n",
    "#it then uses .agg to perform functions on the data\n",
    "    #it gets the max of the age\n",
    "    #it gets the mode of the gender\n",
    "        #this uses a lambda function which is just a simple way to perform code on a given value (which in this case is a row)\n",
    "\n",
    "pets_df.groupby('Kind').agg({'Age': 'max', 'Gender': lambda x: x.mode()[0]})"
   ]
  },
  {
   "cell_type": "code",
   "execution_count": null,
   "metadata": {},
   "outputs": [],
   "source": [
    "#We can also aggregate data using merge\n",
    "merged = pets_df.merge(owners_df, how='inner', on='OwnerID')\n",
    "merged"
   ]
  },
  {
   "cell_type": "code",
   "execution_count": null,
   "metadata": {},
   "outputs": [],
   "source": [
    "#we can see this presented an issue with the names of the columns so we will fix that\n",
    "merged = merged.rename(columns={'Name_x' : 'Pet_Name', 'Name_y': 'Owner_Name'})\n",
    "merged[['Pet_Name', 'Owner_Name']] #filtering again but in this case just to display two columns"
   ]
  },
  {
   "cell_type": "markdown",
   "metadata": {},
   "source": [
    "Other functions to look into <br>\n",
    "\n",
    "Pivoting: good for when you want to reformat your data <br>\n",
    "\n",
    "Different Types of Graphs: <br>\n",
    "    bar graphs <br>\n",
    "    histograms <br>\n",
    "    scatterplots + line of best fit <br>\n",
    "    box + wisker plots <br>\n",
    "    \n"
   ]
  },
  {
   "cell_type": "markdown",
   "metadata": {},
   "source": [
    "**YOUR TASKS** <br>\n",
    "\n",
    "using the merged dataframe, create some sort of graph of your chosing on a column <br>\n",
    "\n",
    "find the most common name of the owners and do the same for the pets <br>\n",
    "\n",
    "filter the data frame for only owners who are from ['Ann Arbor', 'Grand Rapids', 'Detroit', 'Livonia'] and have a surname that starts with a letter in the first half of the alphabet"
   ]
  }
 ],
 "metadata": {
  "kernelspec": {
   "display_name": "Python 3",
   "language": "python",
   "name": "python3"
  },
  "language_info": {
   "codemirror_mode": {
    "name": "ipython",
    "version": 3
   },
   "file_extension": ".py",
   "mimetype": "text/x-python",
   "name": "python",
   "nbconvert_exporter": "python",
   "pygments_lexer": "ipython3",
   "version": "3.10.12"
  }
 },
 "nbformat": 4,
 "nbformat_minor": 2
}
