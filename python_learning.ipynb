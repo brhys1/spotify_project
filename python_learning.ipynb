{
 "cells": [
  {
   "cell_type": "markdown",
   "metadata": {},
   "source": [
    "General Stuff:\n",
    "\n",
    "Use ctrl + enter to run cells<br>\n",
    "Variables save between cells<br>\n",
    "If you don't have an = statement, the bottom line will print, really nice for printing dataframes"
   ]
  },
  {
   "cell_type": "code",
   "execution_count": null,
   "metadata": {},
   "outputs": [],
   "source": [
    "#basic python stuff\n",
    "\n",
    "x = 10 #declares a variable, no need for types\n",
    "my_data = dict() #if I specifically want to include some type\n",
    "\n",
    "print('if statement')\n",
    "if x==10:\n",
    "    print(10)\n",
    "\n",
    "print('\\nrange for loop')\n",
    "for i in range(3,x,2): #first is starting point, middle is ending point (not inclusive), last is step size\n",
    "    print(i)\n",
    "\n",
    "print('\\nlist for loop')\n",
    "stuff = ['hi', 'I', 'love', 'KTP']\n",
    "for thing in stuff:\n",
    "    print(thing)\n",
    "\n",
    "print('\\nlist for dictionary')\n",
    "\n",
    "my_data['t-shirts'] = 10\n",
    "my_data['socks'] = 15\n",
    "my_data['underwear'] = 15\n",
    "my_data['pants'] = 5\n",
    "my_data['hoddies'] = 3\n",
    "\n",
    "for key, data in my_data.items():\n",
    "    print(f'{key}: {data}')\n",
    "\n",
    "print('\\naccessing one value in a dictionary')\n",
    "print(f\"printing the number of socks: {my_data['socks']}\")"
   ]
  },
  {
   "cell_type": "code",
   "execution_count": null,
   "metadata": {},
   "outputs": [],
   "source": [
    "import pandas as pd\n",
    "\n",
    "owners_df = pd.read_csv('practice_data/owners.csv')\n",
    "pets_df = pd.read_csv('practice_data/pets.csv')"
   ]
  },
  {
   "cell_type": "code",
   "execution_count": null,
   "metadata": {},
   "outputs": [],
   "source": [
    "owners_df"
   ]
  },
  {
   "cell_type": "code",
   "execution_count": null,
   "metadata": {},
   "outputs": [],
   "source": [
    "pets_df"
   ]
  },
  {
   "cell_type": "code",
   "execution_count": null,
   "metadata": {},
   "outputs": [],
   "source": [
    "pets_df.head()  # First 5 rows\n",
    "pets_df.info()  # Column types and null values\n",
    "pets_df.describe()  # Summary stats for numerical columns\n",
    "pets_df.columns  # List of column names\n"
   ]
  },
  {
   "cell_type": "code",
   "execution_count": null,
   "metadata": {},
   "outputs": [],
   "source": [
    "#accessing columns in data frames\n",
    "pets_df['Name']"
   ]
  },
  {
   "cell_type": "code",
   "execution_count": null,
   "metadata": {},
   "outputs": [],
   "source": [
    "pets_df.isnull().sum()  # Count missing values per column\n",
    "pets_df.dropna(inplace=True)  # Remove rows with missing data\n",
    "#pets_df.fillna({'Name': pets_df['Name'].median()}, inplace=True)  # Replace NaN in 'Name' with median value\n"
   ]
  },
  {
   "cell_type": "code",
   "execution_count": null,
   "metadata": {},
   "outputs": [],
   "source": [
    "#understanding the data\n",
    "#we can just look at the data with something like\n",
    "pets_df['Age'].value_counts() # gives counts of pet ages by most to least values \n",
    "pets_df['Age'].value_counts().sort_index() # gives counts of pet ages by ages ascending \n",
    "pets_df['Age'].value_counts().sort_index().reset_index()\n",
    "# sorts rows based on index labels, then resets the index --> index is now a column and creates a new default integer index "
   ]
  },
  {
   "cell_type": "code",
   "execution_count": null,
   "metadata": {},
   "outputs": [],
   "source": [
    "#or we can make simple graphs to view distribution better\n",
    "import plotly.express as px\n",
    "import matplotlib.pyplot as plt \n",
    "import seaborn as sns\n",
    "import pandas as pd\n",
    "import numpy as np\n",
    "\n",
    "# Create bar chart\n",
    "age_counts= pets_df['Age'].value_counts().sort_index().reset_index()\n",
    "\n",
    "fig = px.bar(\n",
    "    age_counts,\n",
    "    x='Age',\n",
    "    y='count',\n",
    "    text='count',  # Display count values on bars\n",
    "    title=\"Distribution of Pet Ages\",\n",
    "    labels={'Age': 'Pet Age', 'count': 'Number of Pets'},  # Axis labels\n",
    "    color='count',  # Color bars based on count for better visualization\n",
    "    color_continuous_scale='Blues'  # Aesthetic color scale\n",
    ")\n",
    "\n",
    "# Show figure\n",
    "fig.show()\n"
   ]
  },
  {
   "cell_type": "code",
   "execution_count": null,
   "metadata": {},
   "outputs": [],
   "source": [
    "import matplotlib.pyplot as plt\n",
    "import seaborn as sns\n",
    "\n",
    "# Count occurrences of each pet age\n",
    "age_counts = pets_df['Age'].value_counts().sort_index()\n",
    "\n",
    "# Create bar chart\n",
    "plt.figure(figsize=(8, 6))\n",
    "sns.barplot(x=age_counts.index, y=age_counts.values, palette=\"Blues\")\n",
    "plt.xlabel(\"Pet Age\")\n",
    "plt.ylabel(\"Number of Pets\")\n",
    "plt.title(\"Distribution of Pet Ages\")\n",
    "plt.xticks(rotation=45)\n",
    "plt.show()\n"
   ]
  },
  {
   "cell_type": "code",
   "execution_count": null,
   "metadata": {},
   "outputs": [],
   "source": [
    "# Create a histogram of pet ages\n",
    "plt.figure(figsize=(8, 6))\n",
    "sns.histplot(pets_df['Age'], bins=10, kde=True, color='blue')\n",
    "plt.title(\"Distribution of Pet Ages\")\n",
    "plt.xlabel(\"Age\")\n",
    "plt.ylabel(\"Number of Pets\")\n",
    "plt.show()"
   ]
  },
  {
   "cell_type": "code",
   "execution_count": null,
   "metadata": {},
   "outputs": [],
   "source": [
    "#we can filter our data\n",
    "print(pets_df[(pets_df['Kind'] == 'Dog') & (pets_df['Age'] > 10)].shape[0]) #prints number of dogs above the age of 10\n",
    "pets_df[(pets_df['Kind'] == 'Dog') & (pets_df['Age'] > 10)].sort_values('Name')\n"
   ]
  },
  {
   "cell_type": "code",
   "execution_count": null,
   "metadata": {},
   "outputs": [],
   "source": [
    "#this has a few things happening here\n",
    "#first it groups by the type of animal (so cat, dog, and parrot)\n",
    "#it then uses .agg to perform functions on the data\n",
    "    #it gets the max of the age\n",
    "    #it gets the mode of the gender\n",
    "        #this uses a lambda function which is just a simple way to perform code on a given value (which in this case is a row)\n",
    "\n",
    "pets_df.groupby('Kind').agg({'Age': 'max', 'Gender': lambda x: x.mode()[0]})\n",
    "#pets_df.groupby('genre')['tempo'] # selects tempo column from genre (grouped object) --> prepares for aggregation "
   ]
  },
  {
   "cell_type": "code",
   "execution_count": null,
   "metadata": {},
   "outputs": [],
   "source": [
    "#We can also aggregate data using merge\n",
    "merged = pets_df.merge(owners_df, how='inner', on='OwnerID')\n",
    "merged"
   ]
  },
  {
   "cell_type": "code",
   "execution_count": null,
   "metadata": {},
   "outputs": [],
   "source": [
    "#we can see this presented an issue with the names of the columns so we will fix that\n",
    "merged = merged.rename(columns={'Name_x' : 'Pet_Name', 'Name_y': 'Owner_Name'})\n",
    "merged[['Pet_Name', 'Owner_Name']] #filtering again but in this case just to display two columns"
   ]
  },
  {
   "cell_type": "code",
   "execution_count": null,
   "metadata": {},
   "outputs": [],
   "source": [
    "pets_df.groupby('genre')['tempo'].mean() \n",
    "pets_df.loc[pets_df.groupby('genre')['popularity'].idxmax()] # most popular song per genre \n"
   ]
  },
  {
   "cell_type": "code",
   "execution_count": null,
   "metadata": {},
   "outputs": [],
   "source": [
    "#making new column \n",
    "pets_df['hype_score'] = (pets_df['energy'] * 0.4) + (pets_df['loudness'].abs() * 0.3) + (pets_df['danceability'] * 0.3)\n"
   ]
  },
  {
   "cell_type": "markdown",
   "metadata": {},
   "source": [
    "Other functions to look into <br>\n",
    "\n",
    "Pivoting: good for when you want to reformat your data <br>\n",
    "\n",
    "Different Types of Graphs: <br>\n",
    "    bar graphs <br>\n",
    "    histograms <br>\n",
    "    scatterplots + line of best fit <br>\n",
    "    box + wisker plots <br>\n",
    "    \n"
   ]
  },
  {
   "cell_type": "markdown",
   "metadata": {},
   "source": [
    "line "
   ]
  },
  {
   "cell_type": "markdown",
   "metadata": {},
   "source": [
    "bar chart = counting frequency \n",
    "    EX: most common names, number of pets by kind\n",
    "histogram = distribution of numerical data \n",
    "    EX: most pets age \n",
    "pie chart = proportions \n",
    "    EX: percentage of each kind \n",
    "box plot = compare distributions and outliers \n",
    "    EX: compare pet ages for different kinds \n",
    "scatter plot = relationships/correlations between 2 numeric variables \n",
    "    EX: owner id vs pet age\n",
    "line chart = track changes over time \n",
    "    EX: how many pets exist at each age "
   ]
  },
  {
   "cell_type": "markdown",
   "metadata": {},
   "source": [
    "**YOUR TASKS** <br>\n",
    "\n",
    "using the merged dataframe, create some sort of graph of your chosing on a column <br>\n",
    "\n",
    "find the most common name of the owners and do the same for the pets <br>\n",
    "\n",
    "filter the data frame for only owners who are from ['Ann Arbor', 'Grand Rapids', 'Detroit', 'Livonia'] and have a surname that starts with a letter in the first half of the alphabet"
   ]
  }
 ],
 "metadata": {
  "kernelspec": {
   "display_name": "Python 3",
   "language": "python",
   "name": "python3"
  },
  "language_info": {
   "codemirror_mode": {
    "name": "ipython",
    "version": 3
   },
   "file_extension": ".py",
   "mimetype": "text/x-python",
   "name": "python",
   "nbconvert_exporter": "python",
   "pygments_lexer": "ipython3",
   "version": "3.10.12"
  }
 },
 "nbformat": 4,
 "nbformat_minor": 2
}
